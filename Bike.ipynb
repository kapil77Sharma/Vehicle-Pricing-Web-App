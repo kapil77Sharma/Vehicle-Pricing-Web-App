{
 "cells": [
  {
   "cell_type": "code",
   "execution_count": null,
   "id": "4a7b3fc2",
   "metadata": {},
   "outputs": [],
   "source": [
    "import numpy as np\n",
    "import pandas as pd\n",
    "import matplotlib.pyplot as plt\n",
    "from sklearn.linear_model import LinearRegression\n",
    "from sklearn.linear_model import Lasso\n",
    "from sklearn.model_selection import train_test_split\n",
    "from sklearn import metrics"
   ]
  },
  {
   "cell_type": "code",
   "execution_count": null,
   "id": "1acb6904",
   "metadata": {},
   "outputs": [],
   "source": [
    "bike_dataset = pd.read_csv(\"bike_data.csv\")\n",
    "bike_dataset.head()"
   ]
  },
  {
   "cell_type": "code",
   "execution_count": null,
   "id": "edc21152",
   "metadata": {},
   "outputs": [],
   "source": [
    "bike_dataset.info(), bike_dataset.describe(), bike_dataset.isnull().sum()"
   ]
  },
  {
   "cell_type": "code",
   "execution_count": null,
   "id": "9b844a1d",
   "metadata": {},
   "outputs": [],
   "source": [
    "#bike_dataset.fillna(bike_dataset.mean()) #Not a good option\n",
    "bike_dataset.dropna(subset=['ex_showroom_price'], inplace=True)\n",
    "bike_dataset.head()"
   ]
  },
  {
   "cell_type": "code",
   "execution_count": null,
   "id": "bf3daed7",
   "metadata": {
    "scrolled": true
   },
   "outputs": [],
   "source": [
    "bike_dataset.seller_type.value_counts(), bike_dataset.owner.value_counts()"
   ]
  },
  {
   "cell_type": "code",
   "execution_count": null,
   "id": "ca0b8ac6",
   "metadata": {},
   "outputs": [],
   "source": [
    "bike_dataset.replace({'seller_type':{'Individual':0, 'Dealer': 1}}, inplace=True)\n",
    "bike_dataset.replace({'owner':{'1st owner':1, '2nd owner': 2, '3rd owner':3, '4th owner':4}}, inplace=True)"
   ]
  },
  {
   "cell_type": "code",
   "execution_count": null,
   "id": "bd88e6a6",
   "metadata": {},
   "outputs": [],
   "source": [
    "x = bike_dataset.drop(['name', 'selling_price'], axis=1)\n",
    "y = bike_dataset['selling_price']\n",
    "x, y"
   ]
  },
  {
   "cell_type": "code",
   "execution_count": null,
   "id": "0cabf244",
   "metadata": {},
   "outputs": [],
   "source": [
    "x_train, x_test, y_train, y_test = train_test_split(x, y, test_size=0.1, random_state=2)"
   ]
  },
  {
   "cell_type": "code",
   "execution_count": null,
   "id": "38eaeb76",
   "metadata": {},
   "outputs": [],
   "source": [
    "lasso_mod = Lasso()\n",
    "lasso_mod.fit(x_train, y_train)\n",
    "training_data_prediction = lasso_mod.predict(x_train)"
   ]
  },
  {
   "cell_type": "code",
   "execution_count": null,
   "id": "a6a8b5c8",
   "metadata": {},
   "outputs": [],
   "source": [
    "plt.scatter(y_train, training_data_prediction)\n",
    "plt.xlabel('Actual Price')\n",
    "plt.ylabel('Predicted Price')\n",
    "plt.title('Actual vs Predicted Price for Training Data')\n",
    "plt.show()"
   ]
  },
  {
   "cell_type": "code",
   "execution_count": null,
   "id": "f34ee5df",
   "metadata": {},
   "outputs": [],
   "source": [
    "testing_data_prediction = lasso_mod.predict(x_test)"
   ]
  },
  {
   "cell_type": "code",
   "execution_count": null,
   "id": "3e828467",
   "metadata": {},
   "outputs": [],
   "source": [
    "plt.scatter(y_test, testing_data_prediction)\n",
    "plt.xlabel('Actual Price')\n",
    "plt.ylabel('Predicted Price')\n",
    "plt.title('Actual vs Predicted Price for Testing Data')\n",
    "plt.show()"
   ]
  },
  {
   "cell_type": "code",
   "execution_count": null,
   "id": "8b8058bd",
   "metadata": {},
   "outputs": [],
   "source": [
    "input_data = np.array([2018, 0, 1, 12000, 148114.0]).reshape(1,-1)\n",
    "prediction = lasso_mod.predict(input_data)\n",
    "prediction"
   ]
  },
  {
   "cell_type": "code",
   "execution_count": null,
   "id": "13d5cc33",
   "metadata": {},
   "outputs": [],
   "source": [
    "import pickle"
   ]
  },
  {
   "cell_type": "code",
   "execution_count": null,
   "id": "68e066f3",
   "metadata": {},
   "outputs": [],
   "source": [
    "filename = ('bike_prediction.sav')\n",
    "pickle.dump(lasso_mod, open(filename, 'wb'))"
   ]
  },
  {
   "cell_type": "code",
   "execution_count": null,
   "id": "19f88523",
   "metadata": {},
   "outputs": [],
   "source": []
  }
 ],
 "metadata": {
  "kernelspec": {
   "display_name": "Python 3 (ipykernel)",
   "language": "python",
   "name": "python3"
  },
  "language_info": {
   "codemirror_mode": {
    "name": "ipython",
    "version": 3
   },
   "file_extension": ".py",
   "mimetype": "text/x-python",
   "name": "python",
   "nbconvert_exporter": "python",
   "pygments_lexer": "ipython3",
   "version": "3.10.6"
  }
 },
 "nbformat": 4,
 "nbformat_minor": 5
}
